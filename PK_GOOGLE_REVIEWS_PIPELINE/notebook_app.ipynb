{
 "metadata": {
  "kernelspec": {
   "display_name": "Streamlit Notebook",
   "name": "streamlit"
  }
 },
 "nbformat_minor": 5,
 "nbformat": 4,
 "cells": [
  {
   "cell_type": "markdown",
   "id": "c329ebde-e589-444d-9b99-821d47dd7844",
   "metadata": {
    "name": "OverviewMD",
    "collapsed": false
   },
   "source": "# Poppy Kids : Google Review Analytics\n\nPoppy Kids Pediatric Dentistry, Novato, CA specializes in creating happy and healthy smiles for infants, children, and teens in a supportive and friendly environment. Dr. Andrea Aduna and the Poppy Kids team strive to provide each patient with individualized, high-quality dental care. As a specialized boutique practice, we believe in building relationships with each patient that promote positivity and lifelong oral health. "
  },
  {
   "cell_type": "code",
   "id": "1dcd152b-f8dd-4782-a8ed-30beea0bd6b8",
   "metadata": {
    "language": "sql",
    "name": "use_db"
   },
   "outputs": [],
   "source": "USE POPPY;",
   "execution_count": null
  },
  {
   "cell_type": "code",
   "id": "5b667de4-d9b6-482a-9ef8-5e0984d75471",
   "metadata": {
    "language": "sql",
    "name": "count"
   },
   "outputs": [],
   "source": "Select count(*) from POPPY.ANALYTICS.GOOGLE_REVIEWS_V;",
   "execution_count": null
  },
  {
   "cell_type": "code",
   "id": "9092bbd8-14ac-4c09-9a05-d1ad2abf81bd",
   "metadata": {
    "language": "sql",
    "name": "information_schema"
   },
   "outputs": [],
   "source": "select column_name, is_nullable, data_type from information_schema.columns where table_schema = 'ANALYTICS' and Table_name = 'GOOGLE_REVIEWS_V' order by ordinal_position;",
   "execution_count": null
  },
  {
   "cell_type": "code",
   "id": "eb8cf86c-2242-46f0-ae40-6eb0878cb6c9",
   "metadata": {
    "language": "python",
    "name": "import_packages",
    "collapsed": false
   },
   "outputs": [],
   "source": "# Import python packages\nimport streamlit as st\nimport pandas as pd\nimport seaborn as sns\nimport matplotlib.pyplot as plt\nimport plotly as px\n\n# Snowpark\nfrom snowflake.snowpark.context import get_active_session\nimport snowflake.snowpark.functions as F\nfrom snowflake.snowpark.functions import when, date_part \n\n# Cortex Functions\nimport snowflake.cortex  as cortex\n\nsession = get_active_session()\n",
   "execution_count": null
  },
  {
   "cell_type": "markdown",
   "id": "d521f4d8-89b9-4335-9502-0cf836678791",
   "metadata": {
    "name": "preview_reviews_md",
    "collapsed": false
   },
   "source": "We can preview the reviews we have in the analytics view using Snowpark Dataframe."
  },
  {
   "cell_type": "code",
   "id": "6ecf03d1-9982-48a0-9d3e-80822853abb7",
   "metadata": {
    "language": "python",
    "name": "preview_reviews",
    "collapsed": false
   },
   "outputs": [],
   "source": "reviews2024_df = session.table('POPPY.ANALYTICS.GOOGLE_REVIEWS_V') \\\n             .filter(date_part(\"year\", F.col('REVIEW_DATETIME_PT')) == 2024)\nreviews2024_df.show(5)",
   "execution_count": null
  },
  {
   "cell_type": "code",
   "id": "f2235a13-79c2-4f18-b314-9928769c2140",
   "metadata": {
    "language": "python",
    "name": "no_of_reviews_per_year",
    "collapsed": false
   },
   "outputs": [],
   "source": "# Execute SQL query to get the data\nquery = \"\"\"\nSELECT YEAR(REVIEW_DATETIME_PT) as year, COUNT(REVIEW_ID) as review_count\nFROM Poppy.analytics.google_reviews_v\nGROUP BY YEAR(REVIEW_DATETIME_PT)\nORDER BY year\n\"\"\"\n\n# Execute the query and fetch results into a pandas DataFrame\ndf = session.sql(query).to_pandas()\n\n# Set the 'YEAR' column as the index\ndf.set_index('YEAR', inplace=True)\n\n# Add a title to the chart\nst.subheader('Number of Reviews per Year')\n\n# Create the bar chart using Streamlit\nst.bar_chart(\n    data=df,\n    y='REVIEW_COUNT',\n    width=0,\n    height=400,\n    use_container_width=True,\n    color='#f97212'\n)\n",
   "execution_count": null
  },
  {
   "cell_type": "markdown",
   "id": "90e648b0-a395-4676-94f5-31b809191336",
   "metadata": {
    "name": "ml_functions",
    "collapsed": false
   },
   "source": "### Snowflake Cortex\n\nSnowflake Cortex is an intelligent, fully managed service that hosts and serves top-performing LLMs and vector functions which quickly and securely process text and build AI applications contextualized with  data stored in unstructured and semi-structured formats. We can access it via serverless SQL / Python functions. \nThe available capabilities include:\n- Perform complex reasoning tasks with your text data using COMPLETE.\n- Extract information from unstructured or semi-structured data using EXTRACT_ANSWER.\n- Automatically get a synopsis of text with SUMMARIZE.\n- Detect the mood or tone of text using SENTIMENT.\n- Translate documents to other languages using TRANSLATE.\n\n\n\n\nIn the next cell, we leverage **Translate** - one of the **Snowflake Cortex specialised LLM functions** are available in Snowpark ML, to translate the multilingual reviews to english to enable easier analysis for folks who don't speak the language the original review is in."
  },
  {
   "cell_type": "code",
   "id": "0457d72e-1f6f-4a9c-814d-ca19f3341c47",
   "metadata": {
    "language": "python",
    "name": "cell1",
    "collapsed": false
   },
   "outputs": [],
   "source": "reviews_df = session.table('POPPY.ANALYTICS.GOOGLE_REVIEWS_V') \n# Order by REVIEW_DATETIME_PT in descending order and show\nreviews_df.orderBy(F.col(\"REVIEW_DATETIME_PT\").desc()).show(3)",
   "execution_count": null
  },
  {
   "cell_type": "code",
   "id": "bdfc5af4-eb25-4f10-bc6e-0adc545821bd",
   "metadata": {
    "language": "python",
    "name": "cell2",
    "collapsed": false
   },
   "outputs": [],
   "source": "# Understand the sentiment of customer review using Cortex Sentiment\nreviews_df = reviews_df.withColumn('SENTIMENT', cortex.Sentiment(F.col('REVIEW_TEXT')))\n\nreviews_df.select([\"REVIEW_TEXT\",\"SENTIMENT\"]).show(3)",
   "execution_count": null
  },
  {
   "cell_type": "code",
   "id": "e501454f-7f16-42e2-baae-26f6eb2b53bd",
   "metadata": {
    "language": "python",
    "name": "cell4",
    "collapsed": false
   },
   "outputs": [],
   "source": "reviews_df.orderBy(F.col(\"SENTIMENT\").asc()).show(10)",
   "execution_count": null
  },
  {
   "cell_type": "code",
   "id": "c530effd-f6df-4687-987c-7e880bad5289",
   "metadata": {
    "language": "python",
    "name": "median_sentiment",
    "collapsed": false
   },
   "outputs": [],
   "source": "# Import necessary functions\nfrom snowflake.snowpark.functions import median\n\n# Apply sentiment analysis\nreviews_df = reviews_df.withColumn('SENTIMENT', cortex.Sentiment(F.col('REVIEW_TEXT')))\n\n# Calculate median sentiment\nmedian_sentiment = reviews_df.select(median('SENTIMENT').alias('MEDIAN_SENTIMENT')).collect()[0]['MEDIAN_SENTIMENT']\n\n# Display median sentiment\nprint(f\"Median Sentiment: {median_sentiment}\")\n\n# Show a sample of reviews with their sentiments\nreviews_df.select([\"REVIEW_TEXT\", \"SENTIMENT\"]).show(3)\n\n# Optionally, show distribution of sentiments\nsentiment_distribution = reviews_df.groupBy('SENTIMENT').count().orderBy('SENTIMENT')\nsentiment_distribution.show()",
   "execution_count": null
  },
  {
   "cell_type": "code",
   "id": "97833708-93b5-4190-ad22-041c67a5a4bd",
   "metadata": {
    "language": "python",
    "name": "cell3",
    "collapsed": false
   },
   "outputs": [],
   "source": "# Prompt to understand sentiment for different categories mentioned in the customer review\n# We employ one shot incontext learning to inform LLM\nprompt = \"\"\"[INST]\n### \nYou are analyzing pediatric dentistry practice customer reviews to understand what a given review says about different relevant categories like \\\nquality of service, practice amenities, staff, overall experience, price, ambience, \\\nhygiene standards etc and if sentiment is negative,positive or neutral for that category. \\\nOnly answer in a single valid JSON containing \"category\", \"sentiment\" and \"details\". \\\nMake sure there is no additional text and not mention categories in answer which are not \\\ntalked in the review. \\\nGet category based sentiment for the following customer review:\n\"This pediatric dentistry practice offers a disappointing experience. \\\nThe staff is not friendly and the services are subpar. They are not open at the times I prefer \\\nand there are no open slots when we need. Additionally, the value for money is not worth it. To top \\\nit all off, the service provided at this pediatric dentistry practice is less than pleasant, adding to the overall \\\nnegative dental experience for kids. Tried sending an email to complain but no reply.\" \nAnswer : [{     \"category\": \"services\",     \"sentiment\": \"negative\",    \"details\": \"subpar quality\"   }, \\\n{     \"category\": \"staff\",     \"sentiment\": \"negative\",     \"details\": \"not friendly\"   },   \\\n{     \"category\": \"price\",     \"sentiment\": \"negative\",     \"details\": \"not worth the money\"   },   \\\n{     \"category\": \"experience\",     \"sentiment\": \"negative\",     \"details\": \"disappointing experience\"   },   \\\n{     \"category\": \"appointmnet scheduling\",     \"sentiment\": \"negative\",     \"details\": \"no open slots when we need\"   },   \\\n{     \"category\": \"patient support\",     \"sentiment\": \"negative\",     \"details\": \"no reply to complaint email\"   } ].\nGet category based sentiment for the follwoing customer review:\n###\"\"\"\n\n# Ask Cortex Complete and create a new column\nreview_df = reviews_df.withColumn('CATEGORY_SENTIMENT', cortex.Complete('mixtral-8x7b', \\\n                                                            F.concat(F.lit(prompt), \\\n                                                                     F.col('REVIEW_TEXT'), \\\n                                                                     F.lit(\"\"\"Answer:[/INST]\"\"\"))))\nreview_df.select([\"REVIEW_TEXT\",\"CATEGORY_SENTIMENT\"]).show(1)",
   "execution_count": null
  },
  {
   "cell_type": "code",
   "id": "f8126f9d-db60-479a-820b-9f416363e0f4",
   "metadata": {
    "language": "python",
    "name": "cell5"
   },
   "outputs": [],
   "source": "review_df.select([\"REVIEW_TEXT\",\"CATEGORY_SENTIMENT\"]).show(10)",
   "execution_count": null
  }
 ]
}