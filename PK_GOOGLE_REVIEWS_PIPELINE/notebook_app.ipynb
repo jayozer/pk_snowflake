{
 "metadata": {
  "kernelspec": {
   "display_name": "Streamlit Notebook",
   "name": "streamlit"
  }
 },
 "nbformat_minor": 5,
 "nbformat": 4,
 "cells": [
  {
   "cell_type": "markdown",
   "id": "2aae2971-76f2-4ab2-af17-f4d79ebbddce",
   "metadata": {
    "name": "PK_intro",
    "collapsed": false
   },
   "source": "![PK](https://uploads-ssl.webflow.com/61d1def902a2a8e195cf22d4/65a535e7e2fc9482439bab3e_svgomg-Website%20Poppy%20Logo%20V16%20transparent%20(450%20x%20150%20px).svg)\n\nPoppy Kids Pediatric Dentistry, Novato, CA specializes in creating happy and healthy smiles for infants, children, and teens in a supportive and friendly environment. Dr. Andrea Aduna and the Poppy Kids team strive to provide each patient with individualized, high-quality dental care. As a specialized boutique practice, we believe in building relationships with each patient that promote positivity and lifelong oral health.\n\nVisit us @ [Poppy Kids Pediatric Dentistry](www.poppykidsdental.com/)\n"
  },
  {
   "cell_type": "code",
   "id": "1dcd152b-f8dd-4782-a8ed-30beea0bd6b8",
   "metadata": {
    "language": "sql",
    "name": "use_db",
    "collapsed": false
   },
   "outputs": [],
   "source": "USE POPPY;",
   "execution_count": null
  },
  {
   "cell_type": "code",
   "id": "5b667de4-d9b6-482a-9ef8-5e0984d75471",
   "metadata": {
    "language": "sql",
    "name": "count"
   },
   "outputs": [],
   "source": "Select count(*) from POPPY.ANALYTICS.GOOGLE_REVIEWS_V;",
   "execution_count": null
  },
  {
   "cell_type": "code",
   "id": "9092bbd8-14ac-4c09-9a05-d1ad2abf81bd",
   "metadata": {
    "language": "sql",
    "name": "information_schema"
   },
   "outputs": [],
   "source": "select column_name, is_nullable, data_type from information_schema.columns where table_schema = 'ANALYTICS' and Table_name = 'GOOGLE_REVIEWS_V' order by ordinal_position;",
   "execution_count": null
  },
  {
   "cell_type": "code",
   "id": "eb8cf86c-2242-46f0-ae40-6eb0878cb6c9",
   "metadata": {
    "language": "python",
    "name": "import_packages",
    "collapsed": false
   },
   "outputs": [],
   "source": "# Import python packages\nimport streamlit as st\nimport pandas as pd\nimport seaborn as sns\nimport matplotlib.pyplot as plt\nimport plotly as px\n\n# Snowpark\nfrom snowflake.snowpark.context import get_active_session\nimport snowflake.snowpark.functions as F\nfrom snowflake.snowpark.functions import when, date_part \n\n# Cortex Functions\nimport snowflake.cortex  as cortex\n\nsession = get_active_session()\n",
   "execution_count": null
  },
  {
   "cell_type": "markdown",
   "id": "d521f4d8-89b9-4335-9502-0cf836678791",
   "metadata": {
    "name": "preview_reviews_md",
    "collapsed": false
   },
   "source": "We can preview the reviews we have in the analytics view using Snowpark Dataframe."
  },
  {
   "cell_type": "code",
   "id": "6ecf03d1-9982-48a0-9d3e-80822853abb7",
   "metadata": {
    "language": "python",
    "name": "preview_reviews",
    "collapsed": false
   },
   "outputs": [],
   "source": "reviews2024_df = session.table('POPPY.ANALYTICS.GOOGLE_REVIEWS_V') \\\n             .filter(date_part(\"year\", F.col('REVIEW_DATETIME_PT')) == 2024)\nreviews2024_df.show(5)",
   "execution_count": null
  },
  {
   "cell_type": "code",
   "id": "f2235a13-79c2-4f18-b314-9928769c2140",
   "metadata": {
    "language": "python",
    "name": "no_of_reviews_per_year",
    "collapsed": false
   },
   "outputs": [],
   "source": "# Execute SQL query to get the data\nquery = \"\"\"\nSELECT YEAR(REVIEW_DATETIME_PT) as year, COUNT(REVIEW_ID) as review_count\nFROM Poppy.analytics.google_reviews_v\nGROUP BY YEAR(REVIEW_DATETIME_PT)\nORDER BY year\n\"\"\"\n\n# Execute the query and fetch results into a pandas DataFrame\ndf = session.sql(query).to_pandas()\n\n# Set the 'YEAR' column as the index\ndf.set_index('YEAR', inplace=True)\n\n# Add a title to the chart\nst.subheader('Number of Reviews per Year')\n\n# Create the bar chart using Streamlit\nst.bar_chart(\n    data=df,\n    y='REVIEW_COUNT',\n    width=0,\n    height=400,\n    use_container_width=True,\n    color='#f97212'\n)\n",
   "execution_count": null
  },
  {
   "cell_type": "code",
   "id": "772e9a09-a05a-48ef-bc75-ae55e1371435",
   "metadata": {
    "language": "sql",
    "name": "sql_hour_of_review",
    "collapsed": false
   },
   "outputs": [],
   "source": "SELECT \n    YEAR(REVIEW_DATETIME_PT) as year,\n    HOUR(REVIEW_DATETIME_PT) as hour,\n    COUNT(REVIEW_ID) as review_count\nFROM Poppy.analytics.google_reviews_v\nGROUP BY YEAR(REVIEW_DATETIME_PT), HOUR(REVIEW_DATETIME_PT)\nHAVING COUNT(REVIEW_ID) > 1\nORDER BY year, hour",
   "execution_count": null
  },
  {
   "cell_type": "code",
   "id": "4be3f853-492c-45c1-808d-0106d0d34e13",
   "metadata": {
    "language": "python",
    "name": "hour_of_review_prep",
    "collapsed": false
   },
   "outputs": [],
   "source": "query = \"\"\"\nSELECT \n    YEAR(REVIEW_DATETIME_PT) as year,\n    HOUR(REVIEW_DATETIME_PT) as hour,\n    COUNT(REVIEW_ID) as review_count\nFROM Poppy.analytics.google_reviews_v\nGROUP BY YEAR(REVIEW_DATETIME_PT), HOUR(REVIEW_DATETIME_PT)\nHAVING COUNT(REVIEW_ID) > 2\nORDER BY year, hour\n\"\"\"\n# Execute the query and fetch results into a pandas DataFrame\ndf = session.sql(query).to_pandas()\n\n# Pivot the DataFrame to have years as rows and hours as columns\ndf_pivot = df.pivot(index='YEAR', columns='HOUR', values='REVIEW_COUNT').fillna(0)\n\n# # Ensure all hours (0-23) are present, fill with 0 if missing\n# for hour in range(24):\n#     if hour not in df_pivot.columns:\n#         df_pivot[hour] = 0\n\n# Sort the columns (hours)\ndf_pivot = df_pivot.sort_index(axis=1)",
   "execution_count": null
  },
  {
   "cell_type": "code",
   "id": "96cca17f-446c-4e47-ae2b-2a0ccb10348c",
   "metadata": {
    "language": "python",
    "name": "hour_of_review",
    "collapsed": false
   },
   "outputs": [],
   "source": "import altair as alt\n\n# Melt the pivot table to long format for Altair\ndf_melt = df_pivot.reset_index().melt(id_vars=['YEAR'], var_name='HOUR', value_name='REVIEW_COUNT')\n\n# Create the stacked bar chart\nchart = alt.Chart(df_melt).mark_bar().encode(\n    x=alt.X('YEAR:O', title='Year'),\n    y=alt.Y('REVIEW_COUNT:Q', title='Number of Reviews'),\n    color=alt.Color('HOUR:N', scale=alt.Scale(scheme='viridis'), title='Hour of Day'),\n    tooltip=['YEAR', 'HOUR', 'REVIEW_COUNT']\n).properties(\n    title='Number of Reviews per Hour per Year',\n    width=600,\n    height=400\n)\n\n# Display the chart using Streamlit\nst.altair_chart(chart, use_container_width=True)",
   "execution_count": null
  },
  {
   "cell_type": "markdown",
   "id": "90e648b0-a395-4676-94f5-31b809191336",
   "metadata": {
    "name": "ml_functions",
    "collapsed": false
   },
   "source": "### Snowflake Cortex\n\nSnowflake Cortex is an intelligent, fully managed service that hosts and serves top-performing LLMs and vector functions which quickly and securely process text and build AI applications contextualized with  data stored in unstructured and semi-structured formats. We can access it via serverless SQL / Python functions. \nThe available capabilities include:\n- Perform complex reasoning tasks with your text data using COMPLETE.\n- Extract information from unstructured or semi-structured data using EXTRACT_ANSWER.\n- Automatically get a synopsis of text with SUMMARIZE.\n- Detect the mood or tone of text using SENTIMENT.\n- Translate documents to other languages using TRANSLATE.\n\n\n\n\nIn the next cell, we leverage **Translate** - one of the **Snowflake Cortex specialised LLM functions** are available in Snowpark ML, to translate the multilingual reviews to english to enable easier analysis for folks who don't speak the language the original review is in."
  },
  {
   "cell_type": "code",
   "id": "0457d72e-1f6f-4a9c-814d-ca19f3341c47",
   "metadata": {
    "language": "python",
    "name": "reviews_df_ordered",
    "collapsed": false
   },
   "outputs": [],
   "source": "reviews_df = session.table('POPPY.ANALYTICS.GOOGLE_REVIEWS_V') \n# Order by REVIEW_DATETIME_PT in descending order and show\nreviews_df.orderBy(F.col(\"REVIEW_DATETIME_PT\").desc()).show(3)",
   "execution_count": null
  },
  {
   "cell_type": "code",
   "id": "bdfc5af4-eb25-4f10-bc6e-0adc545821bd",
   "metadata": {
    "language": "python",
    "name": "sentiment_score",
    "collapsed": false
   },
   "outputs": [],
   "source": "# Understand the sentiment of customer review using Cortex Sentiment\nreviews_df = reviews_df.withColumn('SENTIMENT', cortex.Sentiment(F.col('REVIEW_TEXT')))\n\nreviews_df.select([\"REVIEW_TEXT\",\"SENTIMENT\"]).show(3)",
   "execution_count": null
  },
  {
   "cell_type": "code",
   "id": "c530effd-f6df-4687-987c-7e880bad5289",
   "metadata": {
    "language": "python",
    "name": "median_sentiment",
    "collapsed": false
   },
   "outputs": [],
   "source": "# Import necessary functions\nfrom snowflake.snowpark.functions import median\n\n# Apply sentiment analysis\nreviews_df = reviews_df.withColumn('SENTIMENT', cortex.Sentiment(F.col('REVIEW_TEXT')))\n\n# Calculate median sentiment\nmedian_sentiment = reviews_df.select(median('SENTIMENT').alias('MEDIAN_SENTIMENT')).collect()[0]['MEDIAN_SENTIMENT']\n\n# Display median sentiment\nprint(f\"Median Sentiment: {median_sentiment}\")\n\n# Show a sample of reviews with their sentiments\nreviews_df.select([\"REVIEW_TEXT\", \"SENTIMENT\"]).show(3)\n\n# Optionally, show distribution of sentiments\nsentiment_distribution = reviews_df.groupBy('SENTIMENT').count().orderBy('SENTIMENT')\nsentiment_distribution.show()",
   "execution_count": null
  },
  {
   "cell_type": "code",
   "id": "97833708-93b5-4190-ad22-041c67a5a4bd",
   "metadata": {
    "language": "python",
    "name": "aspect_based_sentiment",
    "collapsed": false
   },
   "outputs": [],
   "source": "# Prompt to understand sentiment for different categories mentioned in the customer review\n# We employ one shot incontext learning to inform LLM\nprompt = \"\"\"[INST]\n### \nYou are analyzing pediatric dentistry practice customer reviews to understand what a given review says about different relevant categories like \\\nquality of service, practice amenities, staff, overall experience, price, ambience, \\\nhygiene standards etc and if sentiment is negative,positive or neutral for that category. \\\nOnly answer in a single valid JSON containing \"category\", \"sentiment\" and \"details\". \\\nMake sure there is no additional text and not mention categories in answer which are not \\\ntalked in the review. \\\nGet category based sentiment for the following customer review:\n\"This pediatric dentistry practice offers a disappointing experience. \\\nThe staff is not friendly and the services are subpar. They are not open at the times I prefer \\\nand there are no open slots when we need. Additionally, the value for money is not worth it. To top \\\nit all off, the service provided at this pediatric dentistry practice is less than pleasant, adding to the overall \\\nnegative dental experience for kids. Tried sending an email to complain but no reply.\" \nAnswer : [{     \"category\": \"services\",     \"sentiment\": \"negative\",    \"details\": \"subpar quality\"   }, \\\n{     \"category\": \"staff\",     \"sentiment\": \"negative\",     \"details\": \"not friendly\"   },   \\\n{     \"category\": \"price\",     \"sentiment\": \"negative\",     \"details\": \"not worth the money\"   },   \\\n{     \"category\": \"experience\",     \"sentiment\": \"negative\",     \"details\": \"disappointing experience\"   },   \\\n{     \"category\": \"appointmnet scheduling\",     \"sentiment\": \"negative\",     \"details\": \"no open slots when we need\"   },   \\\n{     \"category\": \"patient support\",     \"sentiment\": \"negative\",     \"details\": \"no reply to complaint email\"   } ].\nGet category based sentiment for the follwoing customer review:\n###\"\"\"\n\n# Ask Cortex Complete and create a new column\nreview_df = reviews_df.withColumn('CATEGORY_SENTIMENT', cortex.Complete('mixtral-8x7b', \\\n                                                            F.concat(F.lit(prompt), \\\n                                                                     F.col('REVIEW_TEXT'), \\\n                                                                     F.lit(\"\"\"Answer:[/INST]\"\"\"))))\nreview_df.select([\"REVIEW_TEXT\",\"CATEGORY_SENTIMENT\"]).show(1)",
   "execution_count": null
  },
  {
   "cell_type": "code",
   "id": "2a7ec60a-efe3-4b7a-bfc8-e3ea4f9d1bce",
   "metadata": {
    "language": "python",
    "name": "neg_reviews_analysis",
    "collapsed": false
   },
   "outputs": [],
   "source": "# Aggregrate the 100 most negative reviews for tasty bytes\nreviews_agg_ = reviews_df.order_by(F.col('SENTIMENT')).select(F.col('REVIEW_TEXT')).first(100)\n\nreviews_agg_str = ''.join(map(str,reviews_agg_))\n\n# Prompt to summarize the three top issues flagged in the aggregated reviews\nprompt = \"\"\"[INST]###Summarize the issues mentioned in following aggregated poppy kids pediatric dentistry customer reviews with three \\\nconcise bullet points under 50 words each such that each bullet point also has a heading along with \\\nrecommendations to remedy those issues.###\"\"\" + reviews_agg_str + \"\"\"[/INST]\"\"\"\n\n# Answer from Cortex Complete\nprint(cortex.Complete('mistral-large', prompt))",
   "execution_count": null
  },
  {
   "cell_type": "code",
   "id": "43ef8323-ca73-40fd-8131-5fcbfd9f0ab4",
   "metadata": {
    "language": "python",
    "name": "useless_homage",
    "collapsed": false
   },
   "outputs": [],
   "source": "from wordcloud import WordCloud\n\n# Query to get review text\ndf = session.table('POPPY.ANALYTICS.GOOGLE_REVIEWS_V').select('REVIEW_TEXT')\n\n# Convert to pandas DataFrame\npdf = df.to_pandas()\n\n# Remove null values and ensure all values are strings\npdf = pdf.dropna(subset=['REVIEW_TEXT'])\npdf['REVIEW_TEXT'] = pdf['REVIEW_TEXT'].astype(str)\n\n# Clean text: convert to lowercase, remove punctuation and numbers\npdf['REVIEW_TEXT'] = pdf['REVIEW_TEXT'].str.lower().str.replace(r'[^\\w\\s]', '', regex=True).str.replace(r'\\d+', '', regex=True)\n\n# Combine all reviews into a single string\ntext = ' '.join(pdf['REVIEW_TEXT'])\n\n# List of stopwords (you can expand this list)\nstopwords = set(['the', 'a', 'an', 'and', 'or', 'but', 'in', 'on', 'at', 'to', 'for', 'of',\\\n                 'with', 'by', 'andrea', 'dr', 'made', 'his', 'would', 'from', 'have', \\\n                'that', 'go', 'took', 'such', 'really', 'being', 'i', 'so', 'as', 'here', 'are', \\\n                'just', 'what', 'my', 'she was', 'was', 'this', 'it', 'your', 'out', 'they', 'we', 'about', \\\n                'him', 'found', 'our', 'he', 'she', 'there', 'can', 'we had', 'is', 'her', 'were'])\n\n# Create WordCloud\nwordcloud = WordCloud(width=800, height=400, background_color='white', stopwords=stopwords, max_words=100).generate(text)\n\n# Streamlit app\nst.title('Review Text Word Cloud')\n\n# Display the word cloud directly\nst.image(wordcloud.to_array())\n\nst.write('This word cloud shows the most frequent words in the reviews. Common words have been removed.')\n\n# Display the number of reviews processed\nst.write(f\"Number of reviews processed: {len(pdf)}\")",
   "execution_count": null
  },
  {
   "cell_type": "markdown",
   "id": "711beb25-1b44-4530-a4f1-7e5ddbe6f94f",
   "metadata": {
    "name": "no_more_nltk",
    "collapsed": false
   },
   "source": "# Let's recreate Wordcloud using mistral-large. \n### So long nltk and stop words."
  },
  {
   "cell_type": "code",
   "id": "5e3bff2a-4418-4a9f-8688-1cfc0c55deba",
   "metadata": {
    "language": "python",
    "name": "llm_wordcloud_data_prep",
    "collapsed": false
   },
   "outputs": [],
   "source": "# Get all reviews\nreviews_df = session.table('POPPY.ANALYTICS.GOOGLE_REVIEWS_V').select('REVIEW_TEXT')\nreviews_agg_ = reviews_df.collect()\nreviews_agg_str = ' '.join(map(lambda x: str(x[0]), reviews_agg_))\n\n# Prompt to generate keywords for word cloud\nprompt = \"\"\"[INST]Analyze the following aggregated customer reviews for Poppy Kids Pediatric Dentistry. \nGenerate a list of 100 key words or short phrases that best represent the content and sentiment of these reviews. \nThese words will be used to create a word cloud, so focus on meaningful and representative terms. \nSeparate each word or phrase with a comma.\n\nReviews:\n\"\"\" + reviews_agg_str + \"\"\"\n\nProvide only the list of words or phrases in your response, without any additional text.[/INST]\"\"\"\n\n# Get response from Cortex Complete\nllm_response = cortex.Complete('mistral-large', prompt)\n\n",
   "execution_count": null
  },
  {
   "cell_type": "code",
   "id": "1eefc767-aa01-4f4c-aa11-7b64e2e4661a",
   "metadata": {
    "language": "python",
    "name": "check_reponse",
    "collapsed": false
   },
   "outputs": [],
   "source": "print(llm_response)",
   "execution_count": null
  },
  {
   "cell_type": "code",
   "id": "93bbe218-4e0f-4e12-89cf-9ee3ab0fddf7",
   "metadata": {
    "language": "python",
    "name": "llm_wordcloud_chart",
    "collapsed": false
   },
   "outputs": [],
   "source": "from wordcloud import WordCloud\n\n# Create WordCloud\nwordcloud = WordCloud(width=800, height=400, background_color='white', max_words=100).generate(llm_response)\n\n# Streamlit app\nst.title('Poppy Kids Pediatric Dentistry Review Word Cloud')\n\n# Display the word cloud\nst.image(wordcloud.to_array())\n\nst.write('This word cloud shows key terms from all reviews, as analyzed by an AI language model.')\n\n# Display the number of reviews processed\nst.write(f\"Number of reviews processed: {len(reviews_agg_)}\")",
   "execution_count": null
  }
 ]
}